{
 "cells": [
  {
   "cell_type": "markdown",
   "id": "fcfc5f83-5227-42de-91eb-4760c75e6e73",
   "metadata": {},
   "source": [
    "Import The Library"
   ]
  },
  {
   "cell_type": "code",
   "execution_count": 1,
   "id": "f11641a5-37a7-4ceb-8930-ea79a465b9a2",
   "metadata": {},
   "outputs": [
    {
     "name": "stdout",
     "output_type": "stream",
     "text": [
      "pygame 2.6.0 (SDL 2.28.4, Python 3.12.5)\n",
      "Hello from the pygame community. https://www.pygame.org/contribute.html\n"
     ]
    }
   ],
   "source": [
    "import pygame as pg\n",
    "import numpy as np\n",
    "import math\n",
    "import numba"
   ]
  },
  {
   "cell_type": "code",
   "execution_count": 2,
   "id": "31e24227-0153-40dd-86aa-69f43f5e8b43",
   "metadata": {},
   "outputs": [],
   "source": [
    "res = width, height = 550, 400 # Equlivant to res = (width, height)\n",
    "offset = np.array([1.3 * width, height]) // 2 # Multiplies the width by 1.3 sets the height the same, then dives the result array by half\n",
    "maxItteration = 150\n",
    "zoom = 2.2 / height\n",
    "\n",
    "texture = pg.image.load('texture.jpg') # Load the texture file\n",
    "textureSize = min(texture.get_size()) - 1 # Get the size of the texture\n",
    "textureArray = pg.surfarray.array3d(texture) # Make a pygame pixel array of the texture\n",
    "\n",
    "class mandlebrotFractal:\n",
    "    def __init__(self, app):\n",
    "        self.app = app;\n",
    "        self.screenArray = np.full((width, height, 3), [0,0,0], dtype = np.uint8)\n",
    "        '''\n",
    "        The np.full command creates an array in this case with 3 deminsions, where the deminsions\n",
    "        are given by the width, height, and 3. And initialzies the array to 0 at first with the\n",
    "        datatype of unsigned int 8 bits which has a max of 255 which perfectly matches to RGB.\n",
    "        '''\n",
    "    @staticmethod\n",
    "    @numba.njit(fastmath = True)\n",
    "    def render(screenArray):\n",
    "        for x in numba.prange(width):\n",
    "            for y in numba.prange(height):\n",
    "                c = (x - offset[0]) * zoom + 1j * (y - offset[1]) * zoom\n",
    "                z = 0\n",
    "                numberOfItteration = 0\n",
    "\n",
    "                for i in numba.prange(maxItteration):\n",
    "                    z = z ** 2 + c\n",
    "\n",
    "                    if (z.real ** 2 + z.imag ** 2 > 8):\n",
    "                        break\n",
    "                    \n",
    "                    numberOfItteration += 1\n",
    "                \n",
    "                colums = int(textureSize * numberOfItteration / maxItteration)\n",
    "                screenArray[x, y] = textureArray[colums, colums]\n",
    "\n",
    "        return screenArray\n",
    "    \n",
    "    def update(self):\n",
    "        self.screenArray = self.render(self.screenArray)\n",
    "\n",
    "    def draw(self):\n",
    "        pg.surfarray.blit_array(self.app.screen, self.screenArray)\n",
    "\n",
    "        '''\n",
    "        The function pg.surfarray.blit_array in Pygame is used to copy pixel data from a NumPy array\n",
    "        onto a pygame.Surface. Essentially, it allows you to update a Surface with pixel values directly\n",
    "        from an array. Here’s a detailed explanation of what it does:\n",
    "        '''\n",
    "    \n",
    "    def run(self):\n",
    "        self.update()\n",
    "        self.draw()\n",
    "\n",
    "class mandlebrotApp: # Creates the GUI game loop\n",
    "    def __init__(self):\n",
    "        self.screen = pg.display.set_mode(res, pg.SCALED) # Sets the display of the window\n",
    "        self.clock = pg.time.Clock() # pg.time.Clock() creates a Clock object, which you can use to regulate how fast the game loop runs\n",
    "        self.mandlebrot = mandlebrotFractal(self)\n",
    "    \n",
    "    def run(self): # Self explanitory code, this is the game loop\n",
    "        running = True\n",
    "        \n",
    "        while (running):\n",
    "            for events in pg.event.get():\n",
    "                if (events.type == pg.QUIT): # If the 'x' button is pressed the application closes\n",
    "                    running = False\n",
    "\n",
    "                if (events.type == pg.KEYDOWN): # If the letter 'q' is pressed the application closes\n",
    "                    if (events.key == pg.K_q):\n",
    "                        running = False\n",
    "\n",
    "            self.screen.fill('black') # Makes the background balck\n",
    "            self.clock.tick()\n",
    "            self.mandlebrot.run()\n",
    "            pg.display.flip() # Updates the window\n",
    "\n",
    "            pg.display.set_caption(f'FPS: {self.clock.get_fps()}')  # Set the window caption to display the FPS\n",
    "\n",
    "        pg.quit() # Closes the pygame client\n",
    "\n",
    "def main():\n",
    "    app = mandlebrotApp()\n",
    "    app.run()\n",
    "\n",
    "if __name__ == '__main__':\n",
    "    main()"
   ]
  },
  {
   "cell_type": "raw",
   "id": "3f6c9fa6-0938-42ef-8b73-4a4e79ddce97",
   "metadata": {},
   "source": []
  }
 ],
 "metadata": {
  "kernelspec": {
   "display_name": "Python 3 (ipykernel)",
   "language": "python",
   "name": "python3"
  },
  "language_info": {
   "codemirror_mode": {
    "name": "ipython",
    "version": 3
   },
   "file_extension": ".py",
   "mimetype": "text/x-python",
   "name": "python",
   "nbconvert_exporter": "python",
   "pygments_lexer": "ipython3",
   "version": "3.12.5"
  }
 },
 "nbformat": 4,
 "nbformat_minor": 5
}
